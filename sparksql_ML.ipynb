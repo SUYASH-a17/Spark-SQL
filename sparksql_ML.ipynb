{
  "nbformat": 4,
  "nbformat_minor": 0,
  "metadata": {
    "colab": {
      "provenance": []
    },
    "kernelspec": {
      "name": "python3",
      "display_name": "Python 3"
    },
    "language_info": {
      "name": "python"
    }
  },
  "cells": [
    {
      "cell_type": "code",
      "execution_count": 4,
      "metadata": {
        "id": "zvz9K_U22Myx"
      },
      "outputs": [],
      "source": [
        "import pyspark\n",
        "from pyspark.sql import SparkSession\n",
        "from pyspark.ml.feature import VectorAssembler\n",
        "from pyspark.ml.linalg import Vectors\n",
        "from pyspark.ml.clustering import KMeans"
      ]
    },
    {
      "cell_type": "code",
      "source": [
        "spark = SparkSession.builder.appName('SparkSQL for ML').getOrCreate()"
      ],
      "metadata": {
        "id": "nS7oKa7g35mg"
      },
      "execution_count": 2,
      "outputs": []
    },
    {
      "cell_type": "code",
      "source": [
        "data_path = '/content/drive/MyDrive/Data/'\n",
        "file_path = data_path + 'utilization.json'\n",
        "df = spark.read.json(file_path)\n",
        "df.show()"
      ],
      "metadata": {
        "colab": {
          "base_uri": "https://localhost:8080/"
        },
        "id": "P1qUl3hU4Odh",
        "outputId": "c99cbb40-6459-4cd8-9068-7aced596dcfd"
      },
      "execution_count": 3,
      "outputs": [
        {
          "output_type": "stream",
          "name": "stdout",
          "text": [
            "+---------------+-------------------+-----------+---------+-------------+\n",
            "|cpu_utilization|     event_datetime|free_memory|server_id|session_count|\n",
            "+---------------+-------------------+-----------+---------+-------------+\n",
            "|           0.57|03/05/2019 08:06:14|       0.51|      100|           47|\n",
            "|           0.47|03/05/2019 08:11:14|       0.62|      100|           43|\n",
            "|           0.56|03/05/2019 08:16:14|       0.57|      100|           62|\n",
            "|           0.57|03/05/2019 08:21:14|       0.56|      100|           50|\n",
            "|           0.35|03/05/2019 08:26:14|       0.46|      100|           43|\n",
            "|           0.41|03/05/2019 08:31:14|       0.58|      100|           48|\n",
            "|           0.57|03/05/2019 08:36:14|       0.35|      100|           58|\n",
            "|           0.41|03/05/2019 08:41:14|        0.4|      100|           58|\n",
            "|           0.53|03/05/2019 08:46:14|       0.35|      100|           62|\n",
            "|           0.51|03/05/2019 08:51:14|        0.6|      100|           45|\n",
            "|           0.32|03/05/2019 08:56:14|       0.37|      100|           47|\n",
            "|           0.62|03/05/2019 09:01:14|       0.59|      100|           60|\n",
            "|           0.66|03/05/2019 09:06:14|       0.72|      100|           57|\n",
            "|           0.54|03/05/2019 09:11:14|       0.54|      100|           44|\n",
            "|           0.29|03/05/2019 09:16:14|        0.4|      100|           47|\n",
            "|           0.43|03/05/2019 09:21:14|       0.68|      100|           66|\n",
            "|           0.49|03/05/2019 09:26:14|       0.66|      100|           65|\n",
            "|           0.64|03/05/2019 09:31:14|       0.55|      100|           66|\n",
            "|           0.42|03/05/2019 09:36:14|        0.6|      100|           42|\n",
            "|           0.55|03/05/2019 09:41:14|       0.59|      100|           63|\n",
            "+---------------+-------------------+-----------+---------+-------------+\n",
            "only showing top 20 rows\n",
            "\n"
          ]
        }
      ]
    },
    {
      "cell_type": "code",
      "source": [
        "VA = VectorAssembler(inputCols=['cpu_utilization', 'server_id', 'session_count', 'free_memory'], outputCol='features')\n",
        "vcluster_df = VA.transform(df)\n",
        "vcluster_df.show()"
      ],
      "metadata": {
        "colab": {
          "base_uri": "https://localhost:8080/"
        },
        "id": "KA4eXjn94uwb",
        "outputId": "a03a5a1a-3036-45e9-8906-14d2fb661602"
      },
      "execution_count": 7,
      "outputs": [
        {
          "output_type": "stream",
          "name": "stdout",
          "text": [
            "+---------------+-------------------+-----------+---------+-------------+--------------------+\n",
            "|cpu_utilization|     event_datetime|free_memory|server_id|session_count|            features|\n",
            "+---------------+-------------------+-----------+---------+-------------+--------------------+\n",
            "|           0.57|03/05/2019 08:06:14|       0.51|      100|           47|[0.57,100.0,47.0,...|\n",
            "|           0.47|03/05/2019 08:11:14|       0.62|      100|           43|[0.47,100.0,43.0,...|\n",
            "|           0.56|03/05/2019 08:16:14|       0.57|      100|           62|[0.56,100.0,62.0,...|\n",
            "|           0.57|03/05/2019 08:21:14|       0.56|      100|           50|[0.57,100.0,50.0,...|\n",
            "|           0.35|03/05/2019 08:26:14|       0.46|      100|           43|[0.35,100.0,43.0,...|\n",
            "|           0.41|03/05/2019 08:31:14|       0.58|      100|           48|[0.41,100.0,48.0,...|\n",
            "|           0.57|03/05/2019 08:36:14|       0.35|      100|           58|[0.57,100.0,58.0,...|\n",
            "|           0.41|03/05/2019 08:41:14|        0.4|      100|           58|[0.41,100.0,58.0,...|\n",
            "|           0.53|03/05/2019 08:46:14|       0.35|      100|           62|[0.53,100.0,62.0,...|\n",
            "|           0.51|03/05/2019 08:51:14|        0.6|      100|           45|[0.51,100.0,45.0,...|\n",
            "|           0.32|03/05/2019 08:56:14|       0.37|      100|           47|[0.32,100.0,47.0,...|\n",
            "|           0.62|03/05/2019 09:01:14|       0.59|      100|           60|[0.62,100.0,60.0,...|\n",
            "|           0.66|03/05/2019 09:06:14|       0.72|      100|           57|[0.66,100.0,57.0,...|\n",
            "|           0.54|03/05/2019 09:11:14|       0.54|      100|           44|[0.54,100.0,44.0,...|\n",
            "|           0.29|03/05/2019 09:16:14|        0.4|      100|           47|[0.29,100.0,47.0,...|\n",
            "|           0.43|03/05/2019 09:21:14|       0.68|      100|           66|[0.43,100.0,66.0,...|\n",
            "|           0.49|03/05/2019 09:26:14|       0.66|      100|           65|[0.49,100.0,65.0,...|\n",
            "|           0.64|03/05/2019 09:31:14|       0.55|      100|           66|[0.64,100.0,66.0,...|\n",
            "|           0.42|03/05/2019 09:36:14|        0.6|      100|           42|[0.42,100.0,42.0,...|\n",
            "|           0.55|03/05/2019 09:41:14|       0.59|      100|           63|[0.55,100.0,63.0,...|\n",
            "+---------------+-------------------+-----------+---------+-------------+--------------------+\n",
            "only showing top 20 rows\n",
            "\n"
          ]
        }
      ]
    },
    {
      "cell_type": "code",
      "source": [
        "kmeans = KMeans().setK(3)\n",
        "kmeans = kmeans.setSeed(1)"
      ],
      "metadata": {
        "id": "oMLSQX6f8idG"
      },
      "execution_count": 10,
      "outputs": []
    },
    {
      "cell_type": "code",
      "source": [
        "kcluster_model = kmeans.fit(vcluster_df)"
      ],
      "metadata": {
        "id": "uC4bRmCHGpNl"
      },
      "execution_count": 11,
      "outputs": []
    },
    {
      "cell_type": "code",
      "source": [
        "kcluster_model.clusterCenters()"
      ],
      "metadata": {
        "colab": {
          "base_uri": "https://localhost:8080/"
        },
        "id": "2Batv1OLG0Mj",
        "outputId": "143b7ac4-1e8e-48eb-e0b0-986bc9f00d29"
      },
      "execution_count": 13,
      "outputs": [
        {
          "output_type": "execute_result",
          "data": {
            "text/plain": [
              "[array([  0.65736901, 138.60101718,  76.67382735,   0.34256349]),\n",
              " array([  0.53245533, 122.38340495,  53.89029363,   0.46675541]),\n",
              " array([  0.67888584, 110.66395752,  79.4234258 ,   0.3209278 ])]"
            ]
          },
          "metadata": {},
          "execution_count": 13
        }
      ]
    },
    {
      "cell_type": "code",
      "source": [],
      "metadata": {
        "id": "DABw98sUG_ot"
      },
      "execution_count": null,
      "outputs": []
    }
  ]
}