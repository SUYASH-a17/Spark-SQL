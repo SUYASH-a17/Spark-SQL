{
  "nbformat": 4,
  "nbformat_minor": 0,
  "metadata": {
    "colab": {
      "provenance": []
    },
    "kernelspec": {
      "name": "python3",
      "display_name": "Python 3"
    },
    "language_info": {
      "name": "python"
    }
  },
  "cells": [
    {
      "cell_type": "code",
      "execution_count": 10,
      "metadata": {
        "id": "kVXbkJMKFhpw"
      },
      "outputs": [],
      "source": [
        "from pyspark.sql import Row\n",
        "from pyspark import SparkContext, SparkConf\n",
        "from pyspark.sql import SparkSession\n",
        "from pyspark.sql.functions import lit\n",
        "from pyspark.sql.types import StringType"
      ]
    },
    {
      "cell_type": "code",
      "source": [
        "conf = SparkConf().setMaster(\"local\").setAppName(\"Practice\")\n",
        "spark = SparkSession.builder.appName(\"Practice\").getOrCreate()\n",
        "sc = SparkContext.getOrCreate(conf)"
      ],
      "metadata": {
        "id": "YqmkIpJ6HwzW"
      },
      "execution_count": 13,
      "outputs": []
    },
    {
      "cell_type": "code",
      "source": [
        "df_dup = sc.parallelize([Row(server_name='101 Server', cpu_utilization = 85, session_count = 80),\n",
        "                         Row(server_name='101 Server', cpu_utilization = 80, session_count = 90),\n",
        "                         Row(server_name='102 Server', cpu_utilization = 85, session_count = 80),\n",
        "                         Row(server_name='102 Server', cpu_utilization = 85, session_count = 80)]).toDF()"
      ],
      "metadata": {
        "id": "IKCwy_f0GsuC"
      },
      "execution_count": 14,
      "outputs": []
    },
    {
      "cell_type": "code",
      "source": [
        "df_dup.show()"
      ],
      "metadata": {
        "colab": {
          "base_uri": "https://localhost:8080/"
        },
        "id": "vObe4ReXHYTP",
        "outputId": "842b81bd-a458-4095-8355-31a0eb0f7347"
      },
      "execution_count": 15,
      "outputs": [
        {
          "output_type": "stream",
          "name": "stdout",
          "text": [
            "+-----------+---------------+-------------+\n",
            "|server_name|cpu_utilization|session_count|\n",
            "+-----------+---------------+-------------+\n",
            "| 101 Server|             85|           80|\n",
            "| 101 Server|             80|           90|\n",
            "| 102 Server|             85|           80|\n",
            "| 102 Server|             85|           80|\n",
            "+-----------+---------------+-------------+\n",
            "\n"
          ]
        }
      ]
    },
    {
      "cell_type": "code",
      "source": [
        "df_dup.drop_duplicates().show()"
      ],
      "metadata": {
        "colab": {
          "base_uri": "https://localhost:8080/"
        },
        "id": "DnjKPtz-IS9Y",
        "outputId": "6df506e6-45b5-4606-8d26-fdaad2b54051"
      },
      "execution_count": 16,
      "outputs": [
        {
          "output_type": "stream",
          "name": "stdout",
          "text": [
            "+-----------+---------------+-------------+\n",
            "|server_name|cpu_utilization|session_count|\n",
            "+-----------+---------------+-------------+\n",
            "| 101 Server|             85|           80|\n",
            "| 101 Server|             80|           90|\n",
            "| 102 Server|             85|           80|\n",
            "+-----------+---------------+-------------+\n",
            "\n"
          ]
        }
      ]
    },
    {
      "cell_type": "code",
      "source": [
        "df_dup.drop_duplicates(['server_name']).show()"
      ],
      "metadata": {
        "colab": {
          "base_uri": "https://localhost:8080/"
        },
        "id": "icyM9ptZJwGR",
        "outputId": "8de09b5c-3c4e-4eac-fbc3-b983b0349a0c"
      },
      "execution_count": 17,
      "outputs": [
        {
          "output_type": "stream",
          "name": "stdout",
          "text": [
            "+-----------+---------------+-------------+\n",
            "|server_name|cpu_utilization|session_count|\n",
            "+-----------+---------------+-------------+\n",
            "| 101 Server|             85|           80|\n",
            "| 102 Server|             85|           80|\n",
            "+-----------+---------------+-------------+\n",
            "\n"
          ]
        }
      ]
    },
    {
      "cell_type": "code",
      "source": [
        "df_na = df_dup.withColumn('na_col', lit(None).cast(StringType()))"
      ],
      "metadata": {
        "id": "xWkVwtZnKjFo"
      },
      "execution_count": 18,
      "outputs": []
    },
    {
      "cell_type": "code",
      "source": [
        "df_na.show()"
      ],
      "metadata": {
        "colab": {
          "base_uri": "https://localhost:8080/"
        },
        "id": "Khjo_8WmLmh-",
        "outputId": "ebf4b184-94ef-4aa0-fa7b-083a35eb3410"
      },
      "execution_count": 19,
      "outputs": [
        {
          "output_type": "stream",
          "name": "stdout",
          "text": [
            "+-----------+---------------+-------------+------+\n",
            "|server_name|cpu_utilization|session_count|na_col|\n",
            "+-----------+---------------+-------------+------+\n",
            "| 101 Server|             85|           80|  NULL|\n",
            "| 101 Server|             80|           90|  NULL|\n",
            "| 102 Server|             85|           80|  NULL|\n",
            "| 102 Server|             85|           80|  NULL|\n",
            "+-----------+---------------+-------------+------+\n",
            "\n"
          ]
        }
      ]
    },
    {
      "cell_type": "code",
      "source": [
        "df_na.fillna('A').show()"
      ],
      "metadata": {
        "colab": {
          "base_uri": "https://localhost:8080/"
        },
        "id": "jEyk9kstL7Ms",
        "outputId": "fe35a122-75e8-47da-bbc1-57705499bd42"
      },
      "execution_count": 20,
      "outputs": [
        {
          "output_type": "stream",
          "name": "stdout",
          "text": [
            "+-----------+---------------+-------------+------+\n",
            "|server_name|cpu_utilization|session_count|na_col|\n",
            "+-----------+---------------+-------------+------+\n",
            "| 101 Server|             85|           80|     A|\n",
            "| 101 Server|             80|           90|     A|\n",
            "| 102 Server|             85|           80|     A|\n",
            "| 102 Server|             85|           80|     A|\n",
            "+-----------+---------------+-------------+------+\n",
            "\n"
          ]
        }
      ]
    },
    {
      "cell_type": "code",
      "source": [
        "df_2 = df_na.fillna('A').union(df_na)\n",
        "df_2.show()"
      ],
      "metadata": {
        "id": "J1834rFQMKXN",
        "colab": {
          "base_uri": "https://localhost:8080/"
        },
        "outputId": "46e7306d-d780-46c5-f50a-ac42c633cd0e"
      },
      "execution_count": 21,
      "outputs": [
        {
          "output_type": "stream",
          "name": "stdout",
          "text": [
            "+-----------+---------------+-------------+------+\n",
            "|server_name|cpu_utilization|session_count|na_col|\n",
            "+-----------+---------------+-------------+------+\n",
            "| 101 Server|             85|           80|     A|\n",
            "| 101 Server|             80|           90|     A|\n",
            "| 102 Server|             85|           80|     A|\n",
            "| 102 Server|             85|           80|     A|\n",
            "| 101 Server|             85|           80|  NULL|\n",
            "| 101 Server|             80|           90|  NULL|\n",
            "| 102 Server|             85|           80|  NULL|\n",
            "| 102 Server|             85|           80|  NULL|\n",
            "+-----------+---------------+-------------+------+\n",
            "\n"
          ]
        }
      ]
    },
    {
      "cell_type": "code",
      "source": [
        "df_2.createOrReplaceTempView('na_table')"
      ],
      "metadata": {
        "id": "DuOHd2gxcC4j"
      },
      "execution_count": 22,
      "outputs": []
    },
    {
      "cell_type": "code",
      "source": [
        "spark.sql('SELECT * FROM na_table').show()"
      ],
      "metadata": {
        "colab": {
          "base_uri": "https://localhost:8080/"
        },
        "id": "bY0gUdMImd0t",
        "outputId": "53a69c93-04f5-4cc0-b933-f3c64b3f52e7"
      },
      "execution_count": 25,
      "outputs": [
        {
          "output_type": "stream",
          "name": "stdout",
          "text": [
            "+-----------+---------------+-------------+------+\n",
            "|server_name|cpu_utilization|session_count|na_col|\n",
            "+-----------+---------------+-------------+------+\n",
            "| 101 Server|             85|           80|     A|\n",
            "| 101 Server|             80|           90|     A|\n",
            "| 102 Server|             85|           80|     A|\n",
            "| 102 Server|             85|           80|     A|\n",
            "| 101 Server|             85|           80|  NULL|\n",
            "| 101 Server|             80|           90|  NULL|\n",
            "| 102 Server|             85|           80|  NULL|\n",
            "| 102 Server|             85|           80|  NULL|\n",
            "+-----------+---------------+-------------+------+\n",
            "\n"
          ]
        }
      ]
    },
    {
      "cell_type": "code",
      "source": [
        "spark.sql('SELECT * \\\n",
        "          FROM na_table \\\n",
        "          WHERE na_col IS NULL').show()"
      ],
      "metadata": {
        "colab": {
          "base_uri": "https://localhost:8080/"
        },
        "id": "LoUY2WNNmuec",
        "outputId": "a8ab061a-c2dd-4261-b140-57c1d227235b"
      },
      "execution_count": 26,
      "outputs": [
        {
          "output_type": "stream",
          "name": "stdout",
          "text": [
            "+-----------+---------------+-------------+------+\n",
            "|server_name|cpu_utilization|session_count|na_col|\n",
            "+-----------+---------------+-------------+------+\n",
            "| 101 Server|             85|           80|  NULL|\n",
            "| 101 Server|             80|           90|  NULL|\n",
            "| 102 Server|             85|           80|  NULL|\n",
            "| 102 Server|             85|           80|  NULL|\n",
            "+-----------+---------------+-------------+------+\n",
            "\n"
          ]
        }
      ]
    },
    {
      "cell_type": "code",
      "source": [
        "df_3 = df_2.dropna()\n",
        "df_3.show()"
      ],
      "metadata": {
        "colab": {
          "base_uri": "https://localhost:8080/"
        },
        "id": "2PLFVfZGm7yZ",
        "outputId": "5ecba349-8e8d-42e0-88b6-748776285894"
      },
      "execution_count": 36,
      "outputs": [
        {
          "output_type": "stream",
          "name": "stdout",
          "text": [
            "+-----------+---------------+-------------+------+\n",
            "|server_name|cpu_utilization|session_count|na_col|\n",
            "+-----------+---------------+-------------+------+\n",
            "| 101 Server|             85|           80|     A|\n",
            "| 101 Server|             80|           90|     A|\n",
            "| 102 Server|             85|           80|     A|\n",
            "| 102 Server|             85|           80|     A|\n",
            "+-----------+---------------+-------------+------+\n",
            "\n"
          ]
        }
      ]
    },
    {
      "cell_type": "code",
      "source": [],
      "metadata": {
        "id": "jHv0D1ajnOlj"
      },
      "execution_count": null,
      "outputs": []
    }
  ]
}