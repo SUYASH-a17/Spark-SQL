{
  "nbformat": 4,
  "nbformat_minor": 0,
  "metadata": {
    "colab": {
      "provenance": []
    },
    "kernelspec": {
      "name": "python3",
      "display_name": "Python 3"
    },
    "language_info": {
      "name": "python"
    }
  },
  "cells": [
    {
      "cell_type": "code",
      "execution_count": 2,
      "metadata": {
        "id": "WfwVfR3wQtGZ"
      },
      "outputs": [],
      "source": [
        "import pyspark\n",
        "from pyspark.sql import SparkSession\n",
        "from pyspark.ml.feature import VectorAssembler\n",
        "from pyspark.ml.regression import LinearRegression"
      ]
    },
    {
      "cell_type": "code",
      "source": [
        "spark = SparkSession.builder.appName('SparkSQL for ML').getOrCreate()"
      ],
      "metadata": {
        "id": "mbxRZqj-Qz3X"
      },
      "execution_count": 3,
      "outputs": []
    },
    {
      "cell_type": "code",
      "source": [
        "data_path = '/content/drive/MyDrive/Data/'\n",
        "file_path = data_path + 'utilization.json'\n",
        "df = spark.read.json(file_path)\n",
        "df.show()"
      ],
      "metadata": {
        "colab": {
          "base_uri": "https://localhost:8080/"
        },
        "id": "L2pcZD3nQ7eX",
        "outputId": "f861021d-79e9-4841-bd0d-355bbf1b129b"
      },
      "execution_count": 5,
      "outputs": [
        {
          "output_type": "stream",
          "name": "stdout",
          "text": [
            "+---------------+-------------------+-----------+---------+-------------+\n",
            "|cpu_utilization|     event_datetime|free_memory|server_id|session_count|\n",
            "+---------------+-------------------+-----------+---------+-------------+\n",
            "|           0.57|03/05/2019 08:06:14|       0.51|      100|           47|\n",
            "|           0.47|03/05/2019 08:11:14|       0.62|      100|           43|\n",
            "|           0.56|03/05/2019 08:16:14|       0.57|      100|           62|\n",
            "|           0.57|03/05/2019 08:21:14|       0.56|      100|           50|\n",
            "|           0.35|03/05/2019 08:26:14|       0.46|      100|           43|\n",
            "|           0.41|03/05/2019 08:31:14|       0.58|      100|           48|\n",
            "|           0.57|03/05/2019 08:36:14|       0.35|      100|           58|\n",
            "|           0.41|03/05/2019 08:41:14|        0.4|      100|           58|\n",
            "|           0.53|03/05/2019 08:46:14|       0.35|      100|           62|\n",
            "|           0.51|03/05/2019 08:51:14|        0.6|      100|           45|\n",
            "|           0.32|03/05/2019 08:56:14|       0.37|      100|           47|\n",
            "|           0.62|03/05/2019 09:01:14|       0.59|      100|           60|\n",
            "|           0.66|03/05/2019 09:06:14|       0.72|      100|           57|\n",
            "|           0.54|03/05/2019 09:11:14|       0.54|      100|           44|\n",
            "|           0.29|03/05/2019 09:16:14|        0.4|      100|           47|\n",
            "|           0.43|03/05/2019 09:21:14|       0.68|      100|           66|\n",
            "|           0.49|03/05/2019 09:26:14|       0.66|      100|           65|\n",
            "|           0.64|03/05/2019 09:31:14|       0.55|      100|           66|\n",
            "|           0.42|03/05/2019 09:36:14|        0.6|      100|           42|\n",
            "|           0.55|03/05/2019 09:41:14|       0.59|      100|           63|\n",
            "+---------------+-------------------+-----------+---------+-------------+\n",
            "only showing top 20 rows\n",
            "\n"
          ]
        }
      ]
    },
    {
      "cell_type": "code",
      "source": [
        "vAssembler = VectorAssembler(inputCols=['cpu_utilization'], outputCol='features')\n",
        "v_df = vAssembler.transform(df)\n",
        "v_df.show()"
      ],
      "metadata": {
        "colab": {
          "base_uri": "https://localhost:8080/"
        },
        "id": "oogcOpgwQ8Rb",
        "outputId": "5d8bfc0a-d13f-4231-d456-a8f9979a960d"
      },
      "execution_count": 6,
      "outputs": [
        {
          "output_type": "stream",
          "name": "stdout",
          "text": [
            "+---------------+-------------------+-----------+---------+-------------+--------+\n",
            "|cpu_utilization|     event_datetime|free_memory|server_id|session_count|features|\n",
            "+---------------+-------------------+-----------+---------+-------------+--------+\n",
            "|           0.57|03/05/2019 08:06:14|       0.51|      100|           47|  [0.57]|\n",
            "|           0.47|03/05/2019 08:11:14|       0.62|      100|           43|  [0.47]|\n",
            "|           0.56|03/05/2019 08:16:14|       0.57|      100|           62|  [0.56]|\n",
            "|           0.57|03/05/2019 08:21:14|       0.56|      100|           50|  [0.57]|\n",
            "|           0.35|03/05/2019 08:26:14|       0.46|      100|           43|  [0.35]|\n",
            "|           0.41|03/05/2019 08:31:14|       0.58|      100|           48|  [0.41]|\n",
            "|           0.57|03/05/2019 08:36:14|       0.35|      100|           58|  [0.57]|\n",
            "|           0.41|03/05/2019 08:41:14|        0.4|      100|           58|  [0.41]|\n",
            "|           0.53|03/05/2019 08:46:14|       0.35|      100|           62|  [0.53]|\n",
            "|           0.51|03/05/2019 08:51:14|        0.6|      100|           45|  [0.51]|\n",
            "|           0.32|03/05/2019 08:56:14|       0.37|      100|           47|  [0.32]|\n",
            "|           0.62|03/05/2019 09:01:14|       0.59|      100|           60|  [0.62]|\n",
            "|           0.66|03/05/2019 09:06:14|       0.72|      100|           57|  [0.66]|\n",
            "|           0.54|03/05/2019 09:11:14|       0.54|      100|           44|  [0.54]|\n",
            "|           0.29|03/05/2019 09:16:14|        0.4|      100|           47|  [0.29]|\n",
            "|           0.43|03/05/2019 09:21:14|       0.68|      100|           66|  [0.43]|\n",
            "|           0.49|03/05/2019 09:26:14|       0.66|      100|           65|  [0.49]|\n",
            "|           0.64|03/05/2019 09:31:14|       0.55|      100|           66|  [0.64]|\n",
            "|           0.42|03/05/2019 09:36:14|        0.6|      100|           42|  [0.42]|\n",
            "|           0.55|03/05/2019 09:41:14|       0.59|      100|           63|  [0.55]|\n",
            "+---------------+-------------------+-----------+---------+-------------+--------+\n",
            "only showing top 20 rows\n",
            "\n"
          ]
        }
      ]
    },
    {
      "cell_type": "code",
      "source": [
        "lr  = LinearRegression(featuresCol='features', labelCol='session_count')\n",
        "lr_model = lr.fit(v_df)"
      ],
      "metadata": {
        "id": "wYjKQhWyR3BG"
      },
      "execution_count": 7,
      "outputs": []
    },
    {
      "cell_type": "code",
      "source": [
        "lr_model.coefficients"
      ],
      "metadata": {
        "colab": {
          "base_uri": "https://localhost:8080/"
        },
        "id": "i0gVN0ejSaNJ",
        "outputId": "695de818-2360-4703-e9a2-154456488c64"
      },
      "execution_count": 9,
      "outputs": [
        {
          "output_type": "execute_result",
          "data": {
            "text/plain": [
              "DenseVector([47.024])"
            ]
          },
          "metadata": {},
          "execution_count": 9
        }
      ]
    },
    {
      "cell_type": "code",
      "source": [
        "lr_model.intercept"
      ],
      "metadata": {
        "colab": {
          "base_uri": "https://localhost:8080/"
        },
        "id": "H80XkAAESeoE",
        "outputId": "29fdd374-96bb-43ee-acd0-f9b776ede08e"
      },
      "execution_count": 10,
      "outputs": [
        {
          "output_type": "execute_result",
          "data": {
            "text/plain": [
              "40.41695103548856"
            ]
          },
          "metadata": {},
          "execution_count": 10
        }
      ]
    },
    {
      "cell_type": "code",
      "source": [
        "lr_model.summary.rootMeanSquaredError"
      ],
      "metadata": {
        "colab": {
          "base_uri": "https://localhost:8080/"
        },
        "id": "F7NenEvgSjG1",
        "outputId": "99e4a795-d410-414b-eaca-6f8630c01b69"
      },
      "execution_count": 11,
      "outputs": [
        {
          "output_type": "execute_result",
          "data": {
            "text/plain": [
              "12.83799022593107"
            ]
          },
          "metadata": {},
          "execution_count": 11
        }
      ]
    },
    {
      "cell_type": "code",
      "source": [],
      "metadata": {
        "id": "A7yGs_VbSlyx"
      },
      "execution_count": null,
      "outputs": []
    }
  ]
}