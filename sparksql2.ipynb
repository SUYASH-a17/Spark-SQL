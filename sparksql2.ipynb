{
  "nbformat": 4,
  "nbformat_minor": 0,
  "metadata": {
    "colab": {
      "provenance": []
    },
    "kernelspec": {
      "name": "python3",
      "display_name": "Python 3"
    },
    "language_info": {
      "name": "python"
    }
  },
  "cells": [
    {
      "cell_type": "code",
      "execution_count": 1,
      "metadata": {
        "id": "9M81pqd7CiNB"
      },
      "outputs": [],
      "source": [
        "import pyspark\n",
        "from pyspark.sql import SparkSession"
      ]
    },
    {
      "cell_type": "code",
      "source": [
        "spark = SparkSession.builder.appName('SparkSQL Practice').getOrCreate()\n",
        "spark"
      ],
      "metadata": {
        "colab": {
          "base_uri": "https://localhost:8080/",
          "height": 222
        },
        "id": "yp6SXnPoMv5d",
        "outputId": "6148a6c7-d299-4332-ab04-bced54f2aa99"
      },
      "execution_count": 2,
      "outputs": [
        {
          "output_type": "execute_result",
          "data": {
            "text/plain": [
              "<pyspark.sql.session.SparkSession at 0x7a91c3f3e290>"
            ],
            "text/html": [
              "\n",
              "            <div>\n",
              "                <p><b>SparkSession - in-memory</b></p>\n",
              "                \n",
              "        <div>\n",
              "            <p><b>SparkContext</b></p>\n",
              "\n",
              "            <p><a href=\"http://fdeec6572fab:4040\">Spark UI</a></p>\n",
              "\n",
              "            <dl>\n",
              "              <dt>Version</dt>\n",
              "                <dd><code>v3.5.4</code></dd>\n",
              "              <dt>Master</dt>\n",
              "                <dd><code>local[*]</code></dd>\n",
              "              <dt>AppName</dt>\n",
              "                <dd><code>SparkSQL Practice</code></dd>\n",
              "            </dl>\n",
              "        </div>\n",
              "        \n",
              "            </div>\n",
              "        "
            ]
          },
          "metadata": {},
          "execution_count": 2
        }
      ]
    },
    {
      "cell_type": "code",
      "source": [
        "data_path ='/content/'"
      ],
      "metadata": {
        "id": "3o9NwqmjM3sA"
      },
      "execution_count": 3,
      "outputs": []
    },
    {
      "cell_type": "code",
      "source": [
        "file_path = data_path + 'utilization.json'\n",
        "s_df = spark.read.format(\"json\").option(\"header\",\"true\").load(file_path)"
      ],
      "metadata": {
        "colab": {
          "base_uri": "https://localhost:8080/"
        },
        "id": "2ItSvEIUNBG9",
        "outputId": "7a855925-63b6-493a-d18c-2364c0e8da67"
      },
      "execution_count": 6,
      "outputs": [
        {
          "output_type": "execute_result",
          "data": {
            "text/plain": [
              "DataFrame[cpu_utilization: double, event_datetime: string, free_memory: double, server_id: bigint, session_count: bigint]"
            ]
          },
          "metadata": {},
          "execution_count": 6
        }
      ]
    },
    {
      "cell_type": "code",
      "source": [
        "s_df.show()"
      ],
      "metadata": {
        "colab": {
          "base_uri": "https://localhost:8080/"
        },
        "id": "l37YL_GDOYIp",
        "outputId": "d3b11357-4215-4932-900a-c4a30880d8cc"
      },
      "execution_count": 7,
      "outputs": [
        {
          "output_type": "stream",
          "name": "stdout",
          "text": [
            "+---------------+-------------------+-----------+---------+-------------+\n",
            "|cpu_utilization|     event_datetime|free_memory|server_id|session_count|\n",
            "+---------------+-------------------+-----------+---------+-------------+\n",
            "|           0.57|03/05/2019 08:06:14|       0.51|      100|           47|\n",
            "|           0.47|03/05/2019 08:11:14|       0.62|      100|           43|\n",
            "|           0.56|03/05/2019 08:16:14|       0.57|      100|           62|\n",
            "|           0.57|03/05/2019 08:21:14|       0.56|      100|           50|\n",
            "|           0.35|03/05/2019 08:26:14|       0.46|      100|           43|\n",
            "|           0.41|03/05/2019 08:31:14|       0.58|      100|           48|\n",
            "|           0.57|03/05/2019 08:36:14|       0.35|      100|           58|\n",
            "|           0.41|03/05/2019 08:41:14|        0.4|      100|           58|\n",
            "|           0.53|03/05/2019 08:46:14|       0.35|      100|           62|\n",
            "|           0.51|03/05/2019 08:51:14|        0.6|      100|           45|\n",
            "|           0.32|03/05/2019 08:56:14|       0.37|      100|           47|\n",
            "|           0.62|03/05/2019 09:01:14|       0.59|      100|           60|\n",
            "|           0.66|03/05/2019 09:06:14|       0.72|      100|           57|\n",
            "|           0.54|03/05/2019 09:11:14|       0.54|      100|           44|\n",
            "|           0.29|03/05/2019 09:16:14|        0.4|      100|           47|\n",
            "|           0.43|03/05/2019 09:21:14|       0.68|      100|           66|\n",
            "|           0.49|03/05/2019 09:26:14|       0.66|      100|           65|\n",
            "|           0.64|03/05/2019 09:31:14|       0.55|      100|           66|\n",
            "|           0.42|03/05/2019 09:36:14|        0.6|      100|           42|\n",
            "|           0.55|03/05/2019 09:41:14|       0.59|      100|           63|\n",
            "+---------------+-------------------+-----------+---------+-------------+\n",
            "only showing top 20 rows\n",
            "\n"
          ]
        }
      ]
    },
    {
      "cell_type": "code",
      "source": [
        "s_df.count()"
      ],
      "metadata": {
        "colab": {
          "base_uri": "https://localhost:8080/"
        },
        "id": "RA9qRNk0Ovn7",
        "outputId": "f461281f-688b-49d5-f2b9-f542d3197600"
      },
      "execution_count": 8,
      "outputs": [
        {
          "output_type": "execute_result",
          "data": {
            "text/plain": [
              "356020"
            ]
          },
          "metadata": {},
          "execution_count": 8
        }
      ]
    },
    {
      "cell_type": "code",
      "source": [
        "s_df.createOrReplaceTempView(\"utilization\")"
      ],
      "metadata": {
        "id": "TBW8klmaRuxH"
      },
      "execution_count": 9,
      "outputs": []
    },
    {
      "cell_type": "code",
      "source": [
        "s_sql = spark.sql(\"SELECT * FROM utilization LIMIT 10\")\n",
        "s_sql.count()"
      ],
      "metadata": {
        "colab": {
          "base_uri": "https://localhost:8080/"
        },
        "id": "gK0yZObwRzsa",
        "outputId": "7f5fe990-3b55-4fa6-9482-b64315b65eb5"
      },
      "execution_count": 12,
      "outputs": [
        {
          "output_type": "execute_result",
          "data": {
            "text/plain": [
              "10"
            ]
          },
          "metadata": {},
          "execution_count": 12
        }
      ]
    },
    {
      "cell_type": "code",
      "source": [
        "s_sql = spark.sql(\"SELECT event_datetime AS e_dt FROM utilization LIMIT 10\")\n",
        "s_sql.show()"
      ],
      "metadata": {
        "colab": {
          "base_uri": "https://localhost:8080/"
        },
        "id": "Ra10oGvXR8Kc",
        "outputId": "b201bbe3-b32d-4243-8a76-a533068895ad"
      },
      "execution_count": 13,
      "outputs": [
        {
          "output_type": "stream",
          "name": "stdout",
          "text": [
            "+-------------------+\n",
            "|               e_dt|\n",
            "+-------------------+\n",
            "|03/05/2019 08:06:14|\n",
            "|03/05/2019 08:11:14|\n",
            "|03/05/2019 08:16:14|\n",
            "|03/05/2019 08:21:14|\n",
            "|03/05/2019 08:26:14|\n",
            "|03/05/2019 08:31:14|\n",
            "|03/05/2019 08:36:14|\n",
            "|03/05/2019 08:41:14|\n",
            "|03/05/2019 08:46:14|\n",
            "|03/05/2019 08:51:14|\n",
            "+-------------------+\n",
            "\n"
          ]
        }
      ]
    },
    {
      "cell_type": "code",
      "source": [],
      "metadata": {
        "id": "8RZw95YeSzX0"
      },
      "execution_count": null,
      "outputs": []
    }
  ]
}